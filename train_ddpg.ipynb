{
    "cells": [
        {
            "cell_type": "markdown",
            "source": [
                "<LARGE>Select the Runtime > \"Change runtime type\" menu to enable a GPU accelerator</LARGE>"
            ],
            "metadata": {}
        },
        {
            "cell_type": "code",
            "execution_count": null,
            "source": [
                "!git clone https://github.com/naufalhisyam/rocket-lander.git"
            ],
            "outputs": [],
            "metadata": {}
        },
        {
            "cell_type": "markdown",
            "source": [
                "Run the cell below if you want to upload saved checkpoint and continue training from that checkpoint"
            ],
            "metadata": {}
        },
        {
            "cell_type": "code",
            "execution_count": null,
            "source": [
                "#from google.colab import files\r\n",
                "#files.upload()"
            ],
            "outputs": [],
            "metadata": {}
        },
        {
            "cell_type": "code",
            "execution_count": null,
            "source": [
                "#!unzip /content/ddpg_checkpoint.zip 'content/*' -d \"/\""
            ],
            "outputs": [],
            "metadata": {}
        },
        {
            "cell_type": "markdown",
            "source": [
                "Installing required libraries"
            ],
            "metadata": {}
        },
        {
            "cell_type": "code",
            "execution_count": null,
            "source": [
                "!apt install -y python-numpy python-dev cmake zlib1g-dev libjpeg-dev xvfb ffmpeg xorg-dev python-opengl libboost-all-dev libsdl2-dev swig > /dev/null 2>&1"
            ],
            "outputs": [],
            "metadata": {}
        },
        {
            "cell_type": "code",
            "execution_count": null,
            "source": [
                "!pip install cvxpy\r\n",
                "!pip install box2d-py\r\n",
                "!pip uninstall stable-baselines -y\r\n",
                "!pip uninstall dopamine-rl -y\r\n",
                "!pip uninstall pyglet -y\r\n",
                "!pip uninstall gym -y\r\n",
                "!pip install tensorflow==1.15\r\n",
                "!pip install pyglet==1.3.2\r\n",
                "!pip install gym==0.9.4\r\n",
                "!pip install pyvirtualdisplay"
            ],
            "outputs": [],
            "metadata": {}
        },
        {
            "cell_type": "markdown",
            "source": [
                "<LARGE>Restart the Runtime first before proceeding below</LARGE>"
            ],
            "metadata": {}
        },
        {
            "cell_type": "code",
            "execution_count": null,
            "source": [
                "%cd /content/rocket-lander\r\n",
                "!ls"
            ],
            "outputs": [],
            "metadata": {}
        },
        {
            "cell_type": "code",
            "execution_count": null,
            "source": [
                "from pyvirtualdisplay import Display\r\n",
                "\r\n",
                "display = Display(visible=0, size=(1000, 800))\r\n",
                "display.start()"
            ],
            "outputs": [],
            "metadata": {}
        },
        {
            "cell_type": "code",
            "execution_count": null,
            "source": [
                "%tensorflow_version 1.x\r\n",
                "from numpy.core.numeric import False_\r\n",
                "import tensorflow as tf\r\n",
                "from control_and_ai.DDPG.ddpg import DDPG\r\n",
                "from control_and_ai.DDPG.train import set_up\r\n",
                "#from control_and_ai.DDPG.train_third_model_normalized import train as train_third_model_normalized\r\n",
                "#from control_and_ai.DDPG.train_second_model import train as train_second_model\r\n",
                "#from control_and_ai.DDPG.train_third_model_unnormalized import train as train_third_model_unnormalized\r\n",
                "from control_and_ai.DDPG.train import train as train_first_model\r\n",
                "\r\n",
                "from constants import DEGTORAD\r\n",
                "from control_and_ai.DDPG.exploration import OUPolicy\r\n",
                "from main_simulation import RocketLander\r\n",
                "\r\n",
                "FLAGS = set_up()\r\n",
                "\r\n",
                "action_bounds = [1, 1, 15*DEGTORAD]\r\n",
                "\r\n",
                "eps = []\r\n",
                "eps.append(OUPolicy(0, 0.2, 0.4))\r\n",
                "eps.append(OUPolicy(0, 0.2, 0.4))\r\n",
                "eps.append(OUPolicy(0, 0.2, 0.4))\r\n",
                "\r\n",
                "simulation_settings = {'Side Engines': True,\r\n",
                "                       'Clouds': True,\r\n",
                "                       'Vectorized Nozzle': True,\r\n",
                "                       'Graph': False,\r\n",
                "                       'Render': False,\r\n",
                "                       'Starting Y-Pos Constant': 1,\r\n",
                "                       'Initial Force': 'random',\r\n",
                "                       'Rows': 1,\r\n",
                "                       'Columns': 2,\r\n",
                "                       'Episodes': 500}\r\n",
                "env = RocketLander(simulation_settings)\r\n",
                "\r\n",
                "#Set both line below to False if you want to contniue training from a saved checkpoint\r\n",
                "FLAGS.retrain = True #Restore weights if False\r\n",
                "FLAGS.test = False #Test the model\r\n",
                "\r\n",
                "FLAGS.num_episodes = 2000\r\n",
                "FLAGS.save_state_act = False #Export State and Action of a single episode as .xlsx (only work if num_episodes = 1)\r\n",
                "FLAGS.save_reward = False #Export reward log as .xlsx\r\n",
                "FLAGS.render_episodes = 1000 #When to render\r\n",
                "\r\n",
                "model_dir = '/content/rocket-lander/saved_model/DDPG/model'\r\n",
                "\r\n",
                "agent = DDPG(\r\n",
                "    action_bounds,\r\n",
                "    eps,\r\n",
                "    env.observation_space.shape[0], #for first model\r\n",
                "    actor_learning_rate=0.0001,\r\n",
                "    critic_learning_rate=0.001,\r\n",
                "    retrain=FLAGS.retrain,\r\n",
                "    log_dir=FLAGS.log_dir,\r\n",
                "    model_dir=model_dir)\r\n",
                "    #batch_size=1000,\r\n",
                "    #gamma=0.999)\r\n",
                "\r\n",
                "train_first_model(env, agent, FLAGS)\r\n",
                "#train_second_model(env, agent, FLAGS)\r\n",
                "#train_third_model_normalized(env, agent, FLAGS)\r\n",
                "#train_third_model_unnormalized(env, agent, FLAGS)\r\n"
            ],
            "outputs": [],
            "metadata": {}
        },
        {
            "cell_type": "markdown",
            "source": [
                "Download saved checkpoint"
            ],
            "metadata": {}
        },
        {
            "cell_type": "code",
            "execution_count": null,
            "source": [
                "!zip -r /content/zipped/ddpg_checkpoint.zip /content/rocket-lander/saved_model/DDPG/model\r\n",
                "\r\n",
                "from google.colab import files\r\n",
                "files.download(\"/content/zipped/ddpg_checkpoint.zip\")\r\n",
                "\r\n",
                "#If the download doesn't start automatically,\r\n",
                "#you can download the file manually from \"Files\" menu on the left side of the screen"
            ],
            "outputs": [],
            "metadata": {}
        }
    ],
    "metadata": {
        "orig_nbformat": 4,
        "language_info": {
            "name": "python"
        }
    },
    "nbformat": 4,
    "nbformat_minor": 2
}